{
 "cells": [
  {
   "cell_type": "code",
   "execution_count": 101,
   "metadata": {},
   "outputs": [],
   "source": [
    "# https://www.ncbi.nlm.nih.gov/Traces/study/?WebEnv=NCID_1_617500_130.14.22.33_5555_1544111939_627991100_0MetA0_S_HStore&query_key=16\n",
    "\n",
    "import pandas as pd\n",
    "gsize = 10  # Mbp"
   ]
  },
  {
   "cell_type": "code",
   "execution_count": 91,
   "metadata": {},
   "outputs": [],
   "source": [
    "def get_name_to_id(df):\n",
    "    name_to_id = {}\n",
    "    index = 0\n",
    "    for ogr in sorted(set(df.Organism)):\n",
    "        #     print(ogr)\n",
    "        if len(ogr.split(\" \")) > 2:\n",
    "            new_id = ogr.split(\" \")[0][0:3].upper() \\\n",
    "            + ogr.split(\" \")[2][0:2].upper()\n",
    "        elif len(ogr.split(\" \")) > 1:\n",
    "            new_id = ogr.split(\" \")[0][0:3].upper() \\\n",
    "            + ogr.split(\" \")[1][0:2].upper()\n",
    "        else:\n",
    "            new_id = ogr.split(\" \")[0][0:3].upper()+'sp'\n",
    "\n",
    "        if new_id in name_to_id.values():\n",
    "            use_id = new_id[0:4]+str(index)\n",
    "            index = index + 1\n",
    "        else:\n",
    "            index = 0\n",
    "            use_id = new_id\n",
    "        name_to_id[ogr] = use_id\n",
    "    out_dict = {'names':list(name_to_id.keys()), 'ids':list(name_to_id.values())}\n",
    "\n",
    "    df = pd.DataFrame(data=out_dict)\n",
    "#     df.to_csv('sra_species_to_id.csv')\n",
    "    return name_to_id"
   ]
  },
  {
   "cell_type": "code",
   "execution_count": 92,
   "metadata": {
    "scrolled": true
   },
   "outputs": [
    {
     "data": {
      "text/plain": [
       "38325"
      ]
     },
     "execution_count": 92,
     "metadata": {},
     "output_type": "execute_result"
    }
   ],
   "source": [
    "sra = pd.read_csv(\"C:/Users/marie/Documents/PdM/Spneumoniae/strepto_sra_ful_input.csv\", sep =\"\\t\", low_memory=False)\n",
    "len(set(sra['SRA_Sample']))\n",
    "\n",
    "sra = sra.loc[sra.Organism == 'Streptococcus pneumoniae']\n",
    "len(set(sra['SRA_Sample']))"
   ]
  },
  {
   "cell_type": "code",
   "execution_count": 93,
   "metadata": {},
   "outputs": [
    {
     "data": {
      "text/plain": [
       "38245"
      ]
     },
     "execution_count": 93,
     "metadata": {},
     "output_type": "execute_result"
    }
   ],
   "source": [
    "sra_illumina = sra.loc[sra.Platform == 'ILLUMINA']\n",
    "len(set(sra_illumina['SRA_Sample']))"
   ]
  },
  {
   "cell_type": "code",
   "execution_count": 94,
   "metadata": {},
   "outputs": [
    {
     "data": {
      "text/plain": [
       "38231"
      ]
     },
     "execution_count": 94,
     "metadata": {},
     "output_type": "execute_result"
    }
   ],
   "source": [
    "sra_illumina_paried = sra_illumina[sra_illumina.LibraryLayout == 'PAIRED']\n",
    "len(set(sra_illumina_paried['SRA_Sample']))"
   ]
  },
  {
   "cell_type": "code",
   "execution_count": 102,
   "metadata": {},
   "outputs": [
    {
     "data": {
      "text/plain": [
       "37051"
      ]
     },
     "execution_count": 102,
     "metadata": {},
     "output_type": "execute_result"
    }
   ],
   "source": [
    "sra_illumina_paried_large = sra_illumina_paried[sra_illumina_paried.MBases > 10*gsize]\n",
    "len(set(sra_illumina_paried_large['SRA_Sample']))"
   ]
  },
  {
   "cell_type": "code",
   "execution_count": 96,
   "metadata": {},
   "outputs": [
    {
     "data": {
      "text/plain": [
       "38364"
      ]
     },
     "execution_count": 96,
     "metadata": {},
     "output_type": "execute_result"
    }
   ],
   "source": [
    "len(sra_illumina_paried_large)"
   ]
  },
  {
   "cell_type": "code",
   "execution_count": 98,
   "metadata": {},
   "outputs": [],
   "source": [
    "sra_illumina_paried_large.to_csv('C:/Users/marie/Documents/PdM/Spneumoniae/strepto_sra_output.csv')"
   ]
  },
  {
   "cell_type": "code",
   "execution_count": 103,
   "metadata": {
    "code_folding": []
   },
   "outputs": [],
   "source": [
    "#outputs the biggest (Mb) sample for each species. Here, we have only S pneumoniae\n",
    "\n",
    "index_os_selected_data = []\n",
    "for sp in set(sra_illumina_paried_large['Organism']):\n",
    "    select = sra_illumina_paried_large[sra_illumina_paried_large.Organism == sp]\n",
    "    max_basepairs = max(select.MBases)\n",
    "    select_single = select[select.MBases == max_basepairs]\n",
    "    index_os_selected_data.append(select_single.index[0])\n"
   ]
  },
  {
   "cell_type": "code",
   "execution_count": 104,
   "metadata": {},
   "outputs": [],
   "source": [
    "sra_final = sra.iloc[sorted(index_os_selected_data)]"
   ]
  },
  {
   "cell_type": "code",
   "execution_count": 106,
   "metadata": {},
   "outputs": [],
   "source": [
    "sra_final.to_csv('C:/Users/marie/Documents/PdM/Spneumoniae/strepto_sra_output_fin.csv')"
   ]
  },
  {
   "cell_type": "code",
   "execution_count": 107,
   "metadata": {},
   "outputs": [
    {
     "data": {
      "text/plain": [
       "{'Streptococcus pneumoniae': 'STRPN'}"
      ]
     },
     "execution_count": 107,
     "metadata": {},
     "output_type": "execute_result"
    }
   ],
   "source": [
    "sra_new = pd.read_csv('C:/Users/marie/Documents/PdM/Spneumoniae/strepto_sra_output_fin.csv')\n",
    "get_name_to_id(sra_new)"
   ]
  },
  {
   "cell_type": "code",
   "execution_count": null,
   "metadata": {},
   "outputs": [],
   "source": []
  }
 ],
 "metadata": {
  "kernelspec": {
   "display_name": "Python 3",
   "language": "python",
   "name": "python3"
  },
  "language_info": {
   "codemirror_mode": {
    "name": "ipython",
    "version": 3
   },
   "file_extension": ".py",
   "mimetype": "text/x-python",
   "name": "python",
   "nbconvert_exporter": "python",
   "pygments_lexer": "ipython3",
   "version": "3.6.6"
  },
  "toc": {
   "base_numbering": 1,
   "nav_menu": {},
   "number_sections": true,
   "sideBar": true,
   "skip_h1_title": false,
   "title_cell": "Table of Contents",
   "title_sidebar": "Contents",
   "toc_cell": false,
   "toc_position": {},
   "toc_section_display": true,
   "toc_window_display": false
  }
 },
 "nbformat": 4,
 "nbformat_minor": 2
}
